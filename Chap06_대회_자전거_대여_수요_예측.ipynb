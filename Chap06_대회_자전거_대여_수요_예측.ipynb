{
  "nbformat": 4,
  "nbformat_minor": 0,
  "metadata": {
    "colab": {
      "provenance": [],
      "mount_file_id": "1bV3Qz4tvJmtI0KwXRppKMRjCJsUWLCK_",
      "authorship_tag": "ABX9TyMdWElDGj9Ok7X3arCg/jGF",
      "include_colab_link": true
    },
    "kernelspec": {
      "name": "python3",
      "display_name": "Python 3"
    },
    "language_info": {
      "name": "python"
    }
  },
  "cells": [
    {
      "cell_type": "markdown",
      "metadata": {
        "id": "view-in-github",
        "colab_type": "text"
      },
      "source": [
        "<a href=\"https://colab.research.google.com/github/eunzzae/KaggleStudy_MustHave/blob/main/Chap06_%EB%8C%80%ED%9A%8C_%EC%9E%90%EC%A0%84%EA%B1%B0_%EB%8C%80%EC%97%AC_%EC%88%98%EC%9A%94_%EC%98%88%EC%B8%A1.ipynb\" target=\"_parent\"><img src=\"https://colab.research.google.com/assets/colab-badge.svg\" alt=\"Open In Colab\"/></a>"
      ]
    },
    {
      "cell_type": "code",
      "execution_count": null,
      "metadata": {
        "id": "q9xKblnowJ6C"
      },
      "outputs": [],
      "source": [
        "# 넘파이, 판다스 import\n",
        "import numpy as np\n",
        "import pandas as pd"
      ]
    },
    {
      "cell_type": "code",
      "source": [
        "# 데이터 경로\n",
        "data_path = '/content/drive/MyDrive/[캐글] 스터디_musthave/Chap06. 자전거_대여_수요_예측/'"
      ],
      "metadata": {
        "id": "rdsyogEo1S7y"
      },
      "execution_count": null,
      "outputs": []
    },
    {
      "cell_type": "code",
      "source": [
        "train = pd.read_csv(data_path + 'train.csv')\n",
        "test = pd.read_csv(data_path + 'test.csv')\n",
        "submission = pd.read_csv(data_path + 'sampleSubmission.csv')"
      ],
      "metadata": {
        "id": "_mKnCyST2LuF"
      },
      "execution_count": null,
      "outputs": []
    },
    {
      "cell_type": "code",
      "source": [
        "# 훈련데이터와 테스트 데이터 크기 확인\n",
        "train.shape, test.shape"
      ],
      "metadata": {
        "colab": {
          "base_uri": "https://localhost:8080/"
        },
        "id": "3qsyNgXj2dBH",
        "outputId": "83025683-fbfa-4958-e4ca-1c244c5cdcfe"
      },
      "execution_count": null,
      "outputs": [
        {
          "output_type": "execute_result",
          "data": {
            "text/plain": [
              "((10886, 12), (6493, 9))"
            ]
          },
          "metadata": {},
          "execution_count": 8
        }
      ]
    },
    {
      "cell_type": "code",
      "source": [],
      "metadata": {
        "id": "oyOAs73o2osC"
      },
      "execution_count": null,
      "outputs": []
    }
  ]
}