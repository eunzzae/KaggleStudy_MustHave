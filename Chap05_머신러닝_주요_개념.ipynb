{
  "nbformat": 4,
  "nbformat_minor": 0,
  "metadata": {
    "colab": {
      "provenance": [],
      "authorship_tag": "ABX9TyOCVG3ORWbK50TxPRjow7lT",
      "include_colab_link": true
    },
    "kernelspec": {
      "name": "python3",
      "display_name": "Python 3"
    },
    "language_info": {
      "name": "python"
    }
  },
  "cells": [
    {
      "cell_type": "markdown",
      "metadata": {
        "id": "view-in-github",
        "colab_type": "text"
      },
      "source": [
        "<a href=\"https://colab.research.google.com/github/eunzzae/KaggleStudy_MustHave/blob/main/Chap05_%EB%A8%B8%EC%8B%A0%EB%9F%AC%EB%8B%9D_%EC%A3%BC%EC%9A%94_%EA%B0%9C%EB%85%90.ipynb\" target=\"_parent\"><img src=\"https://colab.research.google.com/assets/colab-badge.svg\" alt=\"Open In Colab\"/></a>"
      ]
    },
    {
      "cell_type": "markdown",
      "source": [
        "# 5-1) 분류와 회귀\n",
        "## ✅ 분류\n",
        "* 주어진 피처에 따라 어떤 대상을 정해진(유한한) 범주(타깃값)에 구분해 넣는 작업\n",
        "(ex. 개와 고양이 구분, 스팸메일과 일반 메일 구분, 질병 검사 결과가 양성인지 음성인지 등)   \n",
        "→ 타깃값이 두 개 분류는 `이진분류`, 세 개 이상 분류는 `다중분류`\n",
        "\n",
        "## ✅ 회귀\n",
        "* 자연현상이나 사회 현상에서 변수 사이 관계\n",
        "(ex. 학습 시간이 시험 성적에 미치는 영향, 수면의 질이 건강에 미치는 영향, 공장의 재고 수준이 회사 이익에 미치는 영향 등)  \n",
        "→ 영향을 미치는 변수를 `독립변수`, 영향을 받는 변수를 `종속변수`\n",
        "\n",
        "* 회귀 : 독립변수와 종속변수 간 관계를 모델링 하는 방법\n",
        "→ 독립변수 X, 종속변수 Y(단순 선형 회귀)\n",
        "\n",
        ">* 독립변수(피처)와 종속변수(타깃값) 사이 관계를 기반으로 회귀 모델을 훈련해 **`최적의 회귀계수`**를 찾아야 함\n",
        "\n",
        "### ✏️ 회귀 평가지표\n",
        "* 최적의 회귀계수를 구하려면, 예측값과 실젯값의 차이(오차)를 최소화해야 함 ⇒ '데이터에 회귀 모델이 잘 들어맞는다.' 라는 뜻\n",
        "* 오차가 0이면 회귀 모델이 정확히 일치하지만, 과대적합된 결과임을 의심해봐야 함\n",
        "\n",
        ">* 회귀 평가지표 값은 작을수록 모델 성능이 좋음"
      ],
      "metadata": {
        "id": "OKWNzOUTspcF"
      }
    },
    {
      "cell_type": "code",
      "execution_count": null,
      "metadata": {
        "colab": {
          "base_uri": "https://localhost:8080/"
        },
        "id": "sODJgjKlsWTe",
        "outputId": "ffcc4beb-89a4-4139-c035-0f2cf7a3cfd1"
      },
      "outputs": [
        {
          "output_type": "stream",
          "name": "stdout",
          "text": [
            "MAE:\t 0.5385\n",
            "MSE:\t 0.6923\n",
            "RMSE:\t 0.8321\n",
            "MSLE:\t 0.0296\n",
            "RMSLE:\t 0.1721\n",
            "R2:\t 0.8617\n"
          ]
        }
      ],
      "source": [
        ", mean_tweedie_deviance\n",
        "import numpy as np\n",
        "\n",
        "# MAE, MSE, MSLE, R2 임포트\n",
        "\n",
        "from sklearn.metrics import mean_absolute_error, mean_squared_error, mean_squared_log_error, r2_score\n",
        "\n",
        "true = np.array([1, 2, 3, 2, 3, 5, 4, 6, 5, 6, 7, 8, 8])\n",
        "preds = np.array([1, 1, 2, 2, 3, 4, 4, 5, 5, 7, 7, 6, 8])\n",
        "\n",
        "MAE = mean_absolute_error(true, preds)\n",
        "MSE = mean_squared_error(true, preds)\n",
        "RMSE = np.sqrt(MSE)\n",
        "MSLE = mean_squared_log_error(true, preds)\n",
        "RMSLE = np.sqrt(mean_squared_log_error(true, preds))\n",
        "R2 = r2_score(true, preds)\n",
        "\n",
        "print(f'MAE:\\t {MAE:.4f}')\n",
        "print(f'MSE:\\t {MSE:.4f}')\n",
        "print(f'RMSE:\\t {RMSE:.4f}')\n",
        "print(f'MSLE:\\t {MSLE:.4f}')\n",
        "print(f'RMSLE:\\t {RMSLE:.4f}')\n",
        "print(f'R2:\\t {R2:.4f}')"
      ]
    },
    {
      "cell_type": "markdown",
      "source": [
        "# 5-2) 분류 평가지표\n",
        "## ✅ 오차행렬\n",
        "* 실제 타깃값과 예측 타깃값이 어떻게 매칭되는지 보여줌\n",
        "Tip) '참(T)'오로 시작하면 올바로 예측한 것, '거짓(F)'으로 시작하면 틀린 것  \n",
        ">*  오차행렬을 활용한 주요 평가지표는 정확도, 정밀도, 재현율, F1 점수가 있으며 **`모두 값이 클수록`** 좋은 지표\n",
        "\n",
        "### ✏️ 정확도\n",
        "* 정확도(Accuracy) =  (TN + TP) / (TN + FP + FN + TP)\n",
        ": 불균형한 데이터를 다룰 때 모델의 신뢰도를 떨어뜨릴 수 있음   \n",
        "→ 평가지표로 잘 쓰이지 않음\n",
        "\n",
        "### ✏️ 정밀도\n",
        "* 정밀도(Precision) = TP / (TP + FP)\n",
        ": 양성 예측의 정확도, 양성이라고 예측한 값(TP + FP) 중 실제 양성인 값(TP)의 비율  \n",
        "ex)  실제 스팸 메일(양성)을 일반 메일(음성)로 분류하게 되면 사용자가 불편함을 느끼겠지만 일반 메일을 스팸 메일로 분류할 경우 필요한 메일을 받지 못하는 업무상 차질이 생길 수 있음\n",
        "\n",
        "### ✏️ 재현율\n",
        "* 재현율(Recall) =  TP / (TP + FN)\n",
        ": 민감도 또는 참 양성 비율(TPR), 실제 양성 값(TP + FN) 중 양성으로 잘 예측한 값(TP)의 비율  \n",
        "ex) 암환자를 음성이 아닌 양성으로 잘못 판단했을 경우 오류의 대가는 재검사를 하는 수준의 비용이지만 양성인 환자를 음성으로 잘못 판단했을 경우 오류의 대가는 생명임\n",
        "\n",
        "### ✏️ F1 점수\n",
        "*  F1 점수\n",
        ": 정밀도와 재현율을 조합한 평가지표\n",
        "\n",
        "## ✅ 로그손실\n",
        "* 분류 문제에 타깃값을 확률로 예측할 때 사용하는 평가지표 → 값이 작을수록 좋은 지표\n",
        "\n",
        "## ✅ ROC 곡선과 AUC\n",
        "* ROC(Receiver Operating Characteristic)\n",
        ": 참 양성비율(TPR)에 대한 거짓 양성비율(FPR) 곡선\n",
        " >* TPR = TP / (TP + FN) : 실제 Positive 중에 모델이 Positive로 잘 예측한 비율\n",
        " >* FPR =  FP / (TN + FP) =  1 - (TN / (TN + FP))\n",
        "\n",
        " * AUC(Area Under Curve)\n",
        ": ROC곡선 아래 면적\n",
        "Tip) 타깃값(이산값)으로 예측 시 분류 평가지표   \n",
        "→ 정확도, 정밀도, 재현율, F1 점수\n",
        "타깃 확률로 예측 시 분류 평가지표   \n",
        "→ 로그 손실, AUC"
      ],
      "metadata": {
        "id": "hmRdLeBfumCa"
      }
    },
    {
      "cell_type": "markdown",
      "source": [
        "# 5-3) 데이터 인코딩\n",
        "## ✅ 레이블 인코딩\n",
        ">* 범주형 데이터를 숫자로 일대일 매핑해주는 인코딩 방식\n",
        "\n"
      ],
      "metadata": {
        "id": "PX_i3Rxtvbm4"
      }
    },
    {
      "cell_type": "code",
      "source": [
        "from sklearn.preprocessing import LabelEncoder # 레이블 인코더\n",
        "\n",
        "fruits = ['사과', '블루베리', '바나나', '귤', '블루베리', '바나나', '바나나', '사과']\n",
        "\n",
        "# 레이블 인코더 생성\n",
        "label_encoder = LabelEncoder()\n",
        "# 레이블 인코딩 적용\n",
        "fruits_label_encoded = label_encoder.fit_transform(fruits)\n",
        "\n",
        "print('레이블 인코딩 적용 후 데이터:', fruits_label_encoded)"
      ],
      "metadata": {
        "colab": {
          "base_uri": "https://localhost:8080/"
        },
        "id": "DrU9FxoRwQiL",
        "outputId": "897580ef-c74d-4468-d25f-f71fb97cc0c4"
      },
      "execution_count": null,
      "outputs": [
        {
          "output_type": "stream",
          "name": "stdout",
          "text": [
            "레이블 인코딩 적용 후 데이터: [3 2 1 0 2 1 1 3]\n"
          ]
        }
      ]
    },
    {
      "cell_type": "markdown",
      "source": [
        "## ✅ 원-핫 인코딩\n",
        ">* 여러 값 중 하나만 활성화하는 인코딩 방식\n",
        "1) 인코딩하려는 피처의 고윳값 개수를 구함\n",
        "2) 피처의 고윳값 개수만큼 열을 추가\n",
        "3) 각 고윳값에 해당하는 열에 1을 표시하고 나머지 열에는 0을 표시\n",
        "단점: 열 개수가 많아져서 메모리 사용량 늘어나므로 모델 훈련속도 저하\n",
        "\n",
        ">* 명목형 피처 고윳값이 **많을 때**\n",
        "1) 비슷한 고윳값끼리 그룹화\n",
        "2) 빈도가 낮은 고윳값을 '기타(etc)'로 처리\n",
        "3) 다른 인코딩 적용 : 타깃 인코딩, 프리퀀시 인코딩 등 그 외 기법 사용\n",
        "\n",
        "\n"
      ],
      "metadata": {
        "id": "XESX1cW5v05e"
      }
    },
    {
      "cell_type": "code",
      "source": [
        "from sklearn.preprocessing import LabelEncoder, OneHotEncoder\n",
        "\n",
        "fruits = ['사과', '블루베리', '바나나', '귤', '블루베리', '바나나', '바나나', '사과']\n",
        "\n",
        "# 레이블 인코더, 원-핫 인코더 생성\n",
        "label_encoder = LabelEncoder()\n",
        "onehot_encoder = OneHotEncoder()\n",
        "\n",
        "# 레이블 인코딩 적용(문자 데이터 -> 숫자 데이터)\n",
        "fruits_label_encoded = label_encoder.fit_transform(fruits)\n",
        "# 원-핫 인코딩 적용\n",
        "fruits_onehot_encoded = onehot_encoder.fit_transform(fruits_label_encoded.reshape(-1, 1))\n",
        "\n",
        "print('원-핫 인코딩 적용 후 데이터:\\n', fruits_onehot_encoded.toarray())"
      ],
      "metadata": {
        "colab": {
          "base_uri": "https://localhost:8080/"
        },
        "id": "aT4_fVPixidD",
        "outputId": "8e513817-efd0-4ac7-a9fb-805b37e27708"
      },
      "execution_count": null,
      "outputs": [
        {
          "output_type": "stream",
          "name": "stdout",
          "text": [
            "원-핫 인코딩 적용 후 데이터:\n",
            " [[0. 0. 0. 1.]\n",
            " [0. 0. 1. 0.]\n",
            " [0. 1. 0. 0.]\n",
            " [1. 0. 0. 0.]\n",
            " [0. 0. 1. 0.]\n",
            " [0. 1. 0. 0.]\n",
            " [0. 1. 0. 0.]\n",
            " [0. 0. 0. 1.]]\n"
          ]
        }
      ]
    },
    {
      "cell_type": "markdown",
      "source": [
        "* 원-핫 인코딩은 대부분 값이 0인 희소행렬을 만듦\n",
        "* 희소행렬은 메모리 낭비가 심해서 변환 결과를 압축된 형태인 CSR형태로 돌려줌\n",
        "  - .toarray()는 CSR 형태의 행렬을 일반 배열로 바꿔주는 역할\n",
        "  - get_dummies()함수를 사용하면 간단하게 구현 가능"
      ],
      "metadata": {
        "id": "6hPLFZ6wzFdw"
      }
    },
    {
      "cell_type": "code",
      "source": [
        "import pandas as pd\n",
        "\n",
        "pd.get_dummies(fruits)"
      ],
      "metadata": {
        "colab": {
          "base_uri": "https://localhost:8080/",
          "height": 300
        },
        "id": "7NJ1nUgdzA1j",
        "outputId": "33182400-4b34-43c2-ea9b-b57ab707e407"
      },
      "execution_count": null,
      "outputs": [
        {
          "output_type": "execute_result",
          "data": {
            "text/plain": [
              "   귤  바나나  블루베리  사과\n",
              "0  0    0     0   1\n",
              "1  0    0     1   0\n",
              "2  0    1     0   0\n",
              "3  1    0     0   0\n",
              "4  0    0     1   0\n",
              "5  0    1     0   0\n",
              "6  0    1     0   0\n",
              "7  0    0     0   1"
            ],
            "text/html": [
              "\n",
              "  <div id=\"df-09bbcb10-71f7-4910-8938-379409f98151\" class=\"colab-df-container\">\n",
              "    <div>\n",
              "<style scoped>\n",
              "    .dataframe tbody tr th:only-of-type {\n",
              "        vertical-align: middle;\n",
              "    }\n",
              "\n",
              "    .dataframe tbody tr th {\n",
              "        vertical-align: top;\n",
              "    }\n",
              "\n",
              "    .dataframe thead th {\n",
              "        text-align: right;\n",
              "    }\n",
              "</style>\n",
              "<table border=\"1\" class=\"dataframe\">\n",
              "  <thead>\n",
              "    <tr style=\"text-align: right;\">\n",
              "      <th></th>\n",
              "      <th>귤</th>\n",
              "      <th>바나나</th>\n",
              "      <th>블루베리</th>\n",
              "      <th>사과</th>\n",
              "    </tr>\n",
              "  </thead>\n",
              "  <tbody>\n",
              "    <tr>\n",
              "      <th>0</th>\n",
              "      <td>0</td>\n",
              "      <td>0</td>\n",
              "      <td>0</td>\n",
              "      <td>1</td>\n",
              "    </tr>\n",
              "    <tr>\n",
              "      <th>1</th>\n",
              "      <td>0</td>\n",
              "      <td>0</td>\n",
              "      <td>1</td>\n",
              "      <td>0</td>\n",
              "    </tr>\n",
              "    <tr>\n",
              "      <th>2</th>\n",
              "      <td>0</td>\n",
              "      <td>1</td>\n",
              "      <td>0</td>\n",
              "      <td>0</td>\n",
              "    </tr>\n",
              "    <tr>\n",
              "      <th>3</th>\n",
              "      <td>1</td>\n",
              "      <td>0</td>\n",
              "      <td>0</td>\n",
              "      <td>0</td>\n",
              "    </tr>\n",
              "    <tr>\n",
              "      <th>4</th>\n",
              "      <td>0</td>\n",
              "      <td>0</td>\n",
              "      <td>1</td>\n",
              "      <td>0</td>\n",
              "    </tr>\n",
              "    <tr>\n",
              "      <th>5</th>\n",
              "      <td>0</td>\n",
              "      <td>1</td>\n",
              "      <td>0</td>\n",
              "      <td>0</td>\n",
              "    </tr>\n",
              "    <tr>\n",
              "      <th>6</th>\n",
              "      <td>0</td>\n",
              "      <td>1</td>\n",
              "      <td>0</td>\n",
              "      <td>0</td>\n",
              "    </tr>\n",
              "    <tr>\n",
              "      <th>7</th>\n",
              "      <td>0</td>\n",
              "      <td>0</td>\n",
              "      <td>0</td>\n",
              "      <td>1</td>\n",
              "    </tr>\n",
              "  </tbody>\n",
              "</table>\n",
              "</div>\n",
              "    <div class=\"colab-df-buttons\">\n",
              "\n",
              "  <div class=\"colab-df-container\">\n",
              "    <button class=\"colab-df-convert\" onclick=\"convertToInteractive('df-09bbcb10-71f7-4910-8938-379409f98151')\"\n",
              "            title=\"Convert this dataframe to an interactive table.\"\n",
              "            style=\"display:none;\">\n",
              "\n",
              "  <svg xmlns=\"http://www.w3.org/2000/svg\" height=\"24px\" viewBox=\"0 -960 960 960\">\n",
              "    <path d=\"M120-120v-720h720v720H120Zm60-500h600v-160H180v160Zm220 220h160v-160H400v160Zm0 220h160v-160H400v160ZM180-400h160v-160H180v160Zm440 0h160v-160H620v160ZM180-180h160v-160H180v160Zm440 0h160v-160H620v160Z\"/>\n",
              "  </svg>\n",
              "    </button>\n",
              "\n",
              "  <style>\n",
              "    .colab-df-container {\n",
              "      display:flex;\n",
              "      gap: 12px;\n",
              "    }\n",
              "\n",
              "    .colab-df-convert {\n",
              "      background-color: #E8F0FE;\n",
              "      border: none;\n",
              "      border-radius: 50%;\n",
              "      cursor: pointer;\n",
              "      display: none;\n",
              "      fill: #1967D2;\n",
              "      height: 32px;\n",
              "      padding: 0 0 0 0;\n",
              "      width: 32px;\n",
              "    }\n",
              "\n",
              "    .colab-df-convert:hover {\n",
              "      background-color: #E2EBFA;\n",
              "      box-shadow: 0px 1px 2px rgba(60, 64, 67, 0.3), 0px 1px 3px 1px rgba(60, 64, 67, 0.15);\n",
              "      fill: #174EA6;\n",
              "    }\n",
              "\n",
              "    .colab-df-buttons div {\n",
              "      margin-bottom: 4px;\n",
              "    }\n",
              "\n",
              "    [theme=dark] .colab-df-convert {\n",
              "      background-color: #3B4455;\n",
              "      fill: #D2E3FC;\n",
              "    }\n",
              "\n",
              "    [theme=dark] .colab-df-convert:hover {\n",
              "      background-color: #434B5C;\n",
              "      box-shadow: 0px 1px 3px 1px rgba(0, 0, 0, 0.15);\n",
              "      filter: drop-shadow(0px 1px 2px rgba(0, 0, 0, 0.3));\n",
              "      fill: #FFFFFF;\n",
              "    }\n",
              "  </style>\n",
              "\n",
              "    <script>\n",
              "      const buttonEl =\n",
              "        document.querySelector('#df-09bbcb10-71f7-4910-8938-379409f98151 button.colab-df-convert');\n",
              "      buttonEl.style.display =\n",
              "        google.colab.kernel.accessAllowed ? 'block' : 'none';\n",
              "\n",
              "      async function convertToInteractive(key) {\n",
              "        const element = document.querySelector('#df-09bbcb10-71f7-4910-8938-379409f98151');\n",
              "        const dataTable =\n",
              "          await google.colab.kernel.invokeFunction('convertToInteractive',\n",
              "                                                    [key], {});\n",
              "        if (!dataTable) return;\n",
              "\n",
              "        const docLinkHtml = 'Like what you see? Visit the ' +\n",
              "          '<a target=\"_blank\" href=https://colab.research.google.com/notebooks/data_table.ipynb>data table notebook</a>'\n",
              "          + ' to learn more about interactive tables.';\n",
              "        element.innerHTML = '';\n",
              "        dataTable['output_type'] = 'display_data';\n",
              "        await google.colab.output.renderOutput(dataTable, element);\n",
              "        const docLink = document.createElement('div');\n",
              "        docLink.innerHTML = docLinkHtml;\n",
              "        element.appendChild(docLink);\n",
              "      }\n",
              "    </script>\n",
              "  </div>\n",
              "\n",
              "\n",
              "<div id=\"df-44b94595-a63b-4072-b6b8-ebfec29960ca\">\n",
              "  <button class=\"colab-df-quickchart\" onclick=\"quickchart('df-44b94595-a63b-4072-b6b8-ebfec29960ca')\"\n",
              "            title=\"Suggest charts.\"\n",
              "            style=\"display:none;\">\n",
              "\n",
              "<svg xmlns=\"http://www.w3.org/2000/svg\" height=\"24px\"viewBox=\"0 0 24 24\"\n",
              "     width=\"24px\">\n",
              "    <g>\n",
              "        <path d=\"M19 3H5c-1.1 0-2 .9-2 2v14c0 1.1.9 2 2 2h14c1.1 0 2-.9 2-2V5c0-1.1-.9-2-2-2zM9 17H7v-7h2v7zm4 0h-2V7h2v10zm4 0h-2v-4h2v4z\"/>\n",
              "    </g>\n",
              "</svg>\n",
              "  </button>\n",
              "\n",
              "<style>\n",
              "  .colab-df-quickchart {\n",
              "      --bg-color: #E8F0FE;\n",
              "      --fill-color: #1967D2;\n",
              "      --hover-bg-color: #E2EBFA;\n",
              "      --hover-fill-color: #174EA6;\n",
              "      --disabled-fill-color: #AAA;\n",
              "      --disabled-bg-color: #DDD;\n",
              "  }\n",
              "\n",
              "  [theme=dark] .colab-df-quickchart {\n",
              "      --bg-color: #3B4455;\n",
              "      --fill-color: #D2E3FC;\n",
              "      --hover-bg-color: #434B5C;\n",
              "      --hover-fill-color: #FFFFFF;\n",
              "      --disabled-bg-color: #3B4455;\n",
              "      --disabled-fill-color: #666;\n",
              "  }\n",
              "\n",
              "  .colab-df-quickchart {\n",
              "    background-color: var(--bg-color);\n",
              "    border: none;\n",
              "    border-radius: 50%;\n",
              "    cursor: pointer;\n",
              "    display: none;\n",
              "    fill: var(--fill-color);\n",
              "    height: 32px;\n",
              "    padding: 0;\n",
              "    width: 32px;\n",
              "  }\n",
              "\n",
              "  .colab-df-quickchart:hover {\n",
              "    background-color: var(--hover-bg-color);\n",
              "    box-shadow: 0 1px 2px rgba(60, 64, 67, 0.3), 0 1px 3px 1px rgba(60, 64, 67, 0.15);\n",
              "    fill: var(--button-hover-fill-color);\n",
              "  }\n",
              "\n",
              "  .colab-df-quickchart-complete:disabled,\n",
              "  .colab-df-quickchart-complete:disabled:hover {\n",
              "    background-color: var(--disabled-bg-color);\n",
              "    fill: var(--disabled-fill-color);\n",
              "    box-shadow: none;\n",
              "  }\n",
              "\n",
              "  .colab-df-spinner {\n",
              "    border: 2px solid var(--fill-color);\n",
              "    border-color: transparent;\n",
              "    border-bottom-color: var(--fill-color);\n",
              "    animation:\n",
              "      spin 1s steps(1) infinite;\n",
              "  }\n",
              "\n",
              "  @keyframes spin {\n",
              "    0% {\n",
              "      border-color: transparent;\n",
              "      border-bottom-color: var(--fill-color);\n",
              "      border-left-color: var(--fill-color);\n",
              "    }\n",
              "    20% {\n",
              "      border-color: transparent;\n",
              "      border-left-color: var(--fill-color);\n",
              "      border-top-color: var(--fill-color);\n",
              "    }\n",
              "    30% {\n",
              "      border-color: transparent;\n",
              "      border-left-color: var(--fill-color);\n",
              "      border-top-color: var(--fill-color);\n",
              "      border-right-color: var(--fill-color);\n",
              "    }\n",
              "    40% {\n",
              "      border-color: transparent;\n",
              "      border-right-color: var(--fill-color);\n",
              "      border-top-color: var(--fill-color);\n",
              "    }\n",
              "    60% {\n",
              "      border-color: transparent;\n",
              "      border-right-color: var(--fill-color);\n",
              "    }\n",
              "    80% {\n",
              "      border-color: transparent;\n",
              "      border-right-color: var(--fill-color);\n",
              "      border-bottom-color: var(--fill-color);\n",
              "    }\n",
              "    90% {\n",
              "      border-color: transparent;\n",
              "      border-bottom-color: var(--fill-color);\n",
              "    }\n",
              "  }\n",
              "</style>\n",
              "\n",
              "  <script>\n",
              "    async function quickchart(key) {\n",
              "      const quickchartButtonEl =\n",
              "        document.querySelector('#' + key + ' button');\n",
              "      quickchartButtonEl.disabled = true;  // To prevent multiple clicks.\n",
              "      quickchartButtonEl.classList.add('colab-df-spinner');\n",
              "      try {\n",
              "        const charts = await google.colab.kernel.invokeFunction(\n",
              "            'suggestCharts', [key], {});\n",
              "      } catch (error) {\n",
              "        console.error('Error during call to suggestCharts:', error);\n",
              "      }\n",
              "      quickchartButtonEl.classList.remove('colab-df-spinner');\n",
              "      quickchartButtonEl.classList.add('colab-df-quickchart-complete');\n",
              "    }\n",
              "    (() => {\n",
              "      let quickchartButtonEl =\n",
              "        document.querySelector('#df-44b94595-a63b-4072-b6b8-ebfec29960ca button');\n",
              "      quickchartButtonEl.style.display =\n",
              "        google.colab.kernel.accessAllowed ? 'block' : 'none';\n",
              "    })();\n",
              "  </script>\n",
              "</div>\n",
              "    </div>\n",
              "  </div>\n"
            ]
          },
          "metadata": {},
          "execution_count": 9
        }
      ]
    },
    {
      "cell_type": "markdown",
      "source": [
        "# 5-4) 피처 스케일링\n",
        ">* 서로 다른 피처 값의 범위(최댓값-최솟값)가 일치하도록 조정\n",
        "⇒ 데이터마다 값의 범위가 다르면 모델 훈련 X\n",
        "\n",
        "## ✅ min-max 정규화\n",
        ">* 피처 값의 범위를 0~1로 조정하는 기법\n",
        "⇒ 모든 값의 범위를 0-1 사이로 맞출 때 주로 사용\n",
        "\n",
        "※ 이상치가 너무 크거나 작을 때 결과값은 적절하지 않음"
      ],
      "metadata": {
        "id": "Z-WOe5Qdv4hQ"
      }
    },
    {
      "cell_type": "code",
      "source": [
        "import pandas as pd\n",
        "\n",
        "height_weight_dict = {'키' : [1.7, 1.5, 1.8], '몸무게':[75, 55, 60]}\n",
        "df = pd.DataFrame(height_weight_dict, index=['광일', '혜성', '덕수'])\n",
        "\n",
        "print(df)"
      ],
      "metadata": {
        "colab": {
          "base_uri": "https://localhost:8080/"
        },
        "id": "hs8-nRPMtT7m",
        "outputId": "de9f408d-7611-4d97-cc84-13af4a2dd7b8"
      },
      "execution_count": null,
      "outputs": [
        {
          "output_type": "stream",
          "name": "stdout",
          "text": [
            "      키  몸무게\n",
            "광일  1.7   75\n",
            "혜성  1.5   55\n",
            "덕수  1.8   60\n"
          ]
        }
      ]
    },
    {
      "cell_type": "code",
      "source": [
        "from sklearn.preprocessing import MinMaxScaler\n",
        "\n",
        "# min-max 정규화 객체 생성\n",
        "scaler = MinMaxScaler()\n",
        "\n",
        "# min-max 정규화 적용\n",
        "scaler.fit(df)\n",
        "df_scaled = scaler.transform(df)\n",
        "\n",
        "print(df_scaled)"
      ],
      "metadata": {
        "colab": {
          "base_uri": "https://localhost:8080/"
        },
        "id": "iVbn605cz3j1",
        "outputId": "05bc0205-4a25-48c9-8e03-e980ada7b22b"
      },
      "execution_count": null,
      "outputs": [
        {
          "output_type": "stream",
          "name": "stdout",
          "text": [
            "[[0.66666667 1.        ]\n",
            " [0.         0.        ]\n",
            " [1.         0.25      ]]\n"
          ]
        }
      ]
    },
    {
      "cell_type": "markdown",
      "source": [
        "## ✅ 표준화\n",
        "* 평균이 0, 분산이 1이 되도록 피처 값 조정  \n",
        "⇒ 상한과 하한 값이 없음"
      ],
      "metadata": {
        "id": "PnMLzBF60ssy"
      }
    },
    {
      "cell_type": "code",
      "source": [
        "from sklearn.preprocessing import StandardScaler\n",
        "\n",
        "# StandardScaler 객체 생성\n",
        "scaler = StandardScaler()\n",
        "\n",
        "# 표준화 적용\n",
        "df_scaled = scaler.fit_transform(df)\n",
        "\n",
        "print(df_scaled)"
      ],
      "metadata": {
        "colab": {
          "base_uri": "https://localhost:8080/"
        },
        "id": "3ly30BNk0Klt",
        "outputId": "4716bdbf-be06-4cd3-f8da-24f2def72f5f"
      },
      "execution_count": null,
      "outputs": [
        {
          "output_type": "stream",
          "name": "stdout",
          "text": [
            "[[ 0.26726124  1.37281295]\n",
            " [-1.33630621 -0.98058068]\n",
            " [ 1.06904497 -0.39223227]]\n"
          ]
        }
      ]
    },
    {
      "cell_type": "markdown",
      "source": [
        "# 5-5) 교차 검증\n",
        ">* 훈련 데이터로 모델 훈련하고, 테스트 데이터로 예측해 모델 성능 측정  \n",
        "\n",
        "<성능을 검증하지 않으면 문제 발생>  \n",
        "1) 모델 과대적합될 가능성 존재  \n",
        "2) 모델 성능 확인 어려움\n",
        "\n",
        "## ✅ K 폴드 교차 검증\n",
        "* 절차   \n",
        "1) 전체 훈련 데이터를 K개 그룹으로 나눔  \n",
        "2) 그룹 하나는 검증데이터, 나머지 K-1개는 훈련 데이터로 지정  \n",
        "3) 훈련 데이터로 모델을 훈련하고, 검증데이터로 평가  \n",
        "4) 평가점수 기록  \n",
        "5) 검증 데이터를 다른 그룹으로 바꿔가며 2~4절차 K번 반복  \n",
        "6) K개 검증 평가 점수 평균 구함  "
      ],
      "metadata": {
        "id": "KJERY18R1H95"
      }
    },
    {
      "cell_type": "code",
      "source": [
        "import numpy as np\n",
        "from sklearn.model_selection import KFold\n",
        "\n",
        "data = np.array([0, 1, 2, 3, 4, 5, 6, 7, 8, 9])\n",
        "\n",
        "folds = KFold(n_splits=5, shuffle=False)\n",
        "\n",
        "for train_idx, valid_idx in folds.split(data):\n",
        "  print(f'훈련 데이터: {data[train_idx]}, 검증 데이터: {data[valid_idx]}')"
      ],
      "metadata": {
        "colab": {
          "base_uri": "https://localhost:8080/"
        },
        "id": "pqN5RP7y1CTO",
        "outputId": "0565a5df-41ea-49a1-ad52-76fe3640c471"
      },
      "execution_count": null,
      "outputs": [
        {
          "output_type": "stream",
          "name": "stdout",
          "text": [
            "훈련 데이터: [2 3 4 5 6 7 8 9], 검증 데이터: [0 1]\n",
            "훈련 데이터: [0 1 4 5 6 7 8 9], 검증 데이터: [2 3]\n",
            "훈련 데이터: [0 1 2 3 6 7 8 9], 검증 데이터: [4 5]\n",
            "훈련 데이터: [0 1 2 3 4 5 8 9], 검증 데이터: [6 7]\n",
            "훈련 데이터: [0 1 2 3 4 5 6 7], 검증 데이터: [8 9]\n"
          ]
        }
      ]
    },
    {
      "cell_type": "markdown",
      "source": [
        "## ✅ 층화 K 폴드 교차 검증\n",
        "* 타깃값이 `불균등`하게 분포되어 있는 경우 사용   \n",
        "⇒ 타깃값을 골고루 분포되게 폴드를 나눔\n",
        "(분류문제에만 사용됨)"
      ],
      "metadata": {
        "id": "i-DFgbtk13pg"
      }
    },
    {
      "cell_type": "markdown",
      "source": [
        "*  Fold 5에는 스팸이라는 타깃값이 존재하지 않음 -> 층화 K 폴드 사용"
      ],
      "metadata": {
        "id": "WzoBRYVP2vQH"
      }
    },
    {
      "cell_type": "code",
      "source": [
        "y = np.array(['스팸']*5 + ['일반']*45)\n",
        "\n",
        "folds = KFold(n_splits=5, shuffle=True) # K 폴드 교차 검증\n",
        "\n",
        "for idx, (train_idx, valid_idx) in enumerate(folds.split(y)):\n",
        "  print(f'Fold {idx+1} 검증 데이터 타깃값:')\n",
        "  print(y[valid_idx], '\\n')"
      ],
      "metadata": {
        "colab": {
          "base_uri": "https://localhost:8080/"
        },
        "id": "x_pHUEMX1x97",
        "outputId": "f16cb653-5ac1-40b0-e6a9-4216521dc55e"
      },
      "execution_count": null,
      "outputs": [
        {
          "output_type": "stream",
          "name": "stdout",
          "text": [
            "Fold 1 검증 데이터 타깃값:\n",
            "['스팸' '일반' '일반' '일반' '일반' '일반' '일반' '일반' '일반' '일반'] \n",
            "\n",
            "Fold 2 검증 데이터 타깃값:\n",
            "['스팸' '일반' '일반' '일반' '일반' '일반' '일반' '일반' '일반' '일반'] \n",
            "\n",
            "Fold 3 검증 데이터 타깃값:\n",
            "['스팸' '일반' '일반' '일반' '일반' '일반' '일반' '일반' '일반' '일반'] \n",
            "\n",
            "Fold 4 검증 데이터 타깃값:\n",
            "['스팸' '스팸' '일반' '일반' '일반' '일반' '일반' '일반' '일반' '일반'] \n",
            "\n",
            "Fold 5 검증 데이터 타깃값:\n",
            "['일반' '일반' '일반' '일반' '일반' '일반' '일반' '일반' '일반' '일반'] \n",
            "\n"
          ]
        }
      ]
    },
    {
      "cell_type": "code",
      "source": [
        "from sklearn.model_selection import StratifiedKFold\n",
        "\n",
        "X = np.array(range(50))\n",
        "Y = np.array(['스팸']*5 + ['일반']*45)\n",
        "\n",
        "folds = StratifiedKFold(n_splits=5) # 층화 K 폴드 교차 검증\n",
        "\n",
        "for idx, (train_idx, valid_idx) in enumerate(folds.split(X, Y)):\n",
        "  print(f'Fold {idx+1} 검증 데이터 타깃값:')\n",
        "  print(Y[valid_idx], '\\n')\n"
      ],
      "metadata": {
        "colab": {
          "base_uri": "https://localhost:8080/"
        },
        "id": "vylBZP2g2unV",
        "outputId": "a001e683-dbab-4dc1-e682-6b50ffc93343"
      },
      "execution_count": null,
      "outputs": [
        {
          "output_type": "stream",
          "name": "stdout",
          "text": [
            "Fold 1 검증 데이터 타깃값:\n",
            "['스팸' '일반' '일반' '일반' '일반' '일반' '일반' '일반' '일반' '일반'] \n",
            "\n",
            "Fold 2 검증 데이터 타깃값:\n",
            "['스팸' '일반' '일반' '일반' '일반' '일반' '일반' '일반' '일반' '일반'] \n",
            "\n",
            "Fold 3 검증 데이터 타깃값:\n",
            "['스팸' '일반' '일반' '일반' '일반' '일반' '일반' '일반' '일반' '일반'] \n",
            "\n",
            "Fold 4 검증 데이터 타깃값:\n",
            "['스팸' '일반' '일반' '일반' '일반' '일반' '일반' '일반' '일반' '일반'] \n",
            "\n",
            "Fold 5 검증 데이터 타깃값:\n",
            "['스팸' '일반' '일반' '일반' '일반' '일반' '일반' '일반' '일반' '일반'] \n",
            "\n"
          ]
        }
      ]
    },
    {
      "cell_type": "code",
      "source": [],
      "metadata": {
        "id": "3t9vJ-752XQ7"
      },
      "execution_count": null,
      "outputs": []
    }
  ]
}